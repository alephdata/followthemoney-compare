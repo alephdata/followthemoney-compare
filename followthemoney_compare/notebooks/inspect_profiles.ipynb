{
 "cells": [
  {
   "cell_type": "code",
   "execution_count": 1,
   "metadata": {},
   "outputs": [
    {
     "name": "stderr",
     "output_type": "stream",
     "text": [
      "/Users/tuomasketola/Documents/followthemoney-compare/followthemoney_compare/notebooks/../lib/profiles.py:8: TqdmExperimentalWarning: Using `tqdm.autonotebook.tqdm` in notebook mode. Use `tqdm.tqdm` instead to force console mode (e.g. in jupyter console)\n",
      "  from tqdm.autonotebook import tqdm\n"
     ]
    }
   ],
   "source": [
    "import sys\n",
    "sys.path.append('../lib')\n",
    "\n",
    "from pathlib import Path\n",
    "from collections import Counter, defaultdict\n",
    "import json\n",
    "from pprint import pprint\n",
    "from itertools import chain, islice\n",
    "import math\n",
    "\n",
    "import pandas as pd\n",
    "import numpy as np\n",
    "import pymc3 as pm\n",
    "import arviz as ar\n",
    "import seaborn as sns\n",
    "\n",
    "from sklearn import metrics\n",
    "\n",
    "import pylab as py\n",
    "from tqdm.notebook import tqdm\n",
    "# from followthemoney import compare, compare2, model\n",
    "from followthemoney import compare, model\n",
    "\n",
    "import compare2_tk as compare2\n",
    "\n",
    "from profiles import Profile, ProfileCollection, _describe_list, Judgement\n",
    "import utils"
   ]
  },
  {
   "cell_type": "code",
   "execution_count": 2,
   "metadata": {},
   "outputs": [],
   "source": [
    "profiles = ProfileCollection.load_dir('../data/profiles/')"
   ]
  },
  {
   "cell_type": "code",
   "execution_count": 3,
   "metadata": {},
   "outputs": [
    {
     "name": "stdout",
     "output_type": "stream",
     "text": [
      "Number of profiles: 1268\n",
      "Mean profile size: 1.9014195583596214\n",
      "STD profile size: 2.380036158831663\n",
      "Median profile size: 2.0\n",
      "Unique Entities: 2378\n",
      "Judgement Counts: [(<Judgement.POSITIVE: 'positive'>, 1823), (<Judgement.NEGATIVE: 'negative'>, 546), (<Judgement.UNSURE: 'unsure'>, 42)]\n",
      "Mean entity num properties: 5.975114060555786\n",
      "STD entity num properties: 2.81508843052671\n",
      "Median entity num properties: 7.0\n"
     ]
    }
   ],
   "source": [
    "profiles.describe()"
   ]
  },
  {
   "cell_type": "code",
   "execution_count": 4,
   "metadata": {},
   "outputs": [],
   "source": [
    "user_weight = utils.create_user_weights_lookup(profiles)"
   ]
  },
  {
   "cell_type": "code",
   "execution_count": 5,
   "metadata": {},
   "outputs": [
    {
     "data": {
      "image/png": "[encoded data removed]",
      "text/plain": [
       "<Figure size 432x288 with 1 Axes>"
      ]
     },
     "metadata": {
      "needs_background": "light"
     },
     "output_type": "display_data"
    }
   ],
   "source": [
    "py.hist(user_weight.values())\n",
    "py.xlabel(\"User Weight\")\n",
    "py.ylabel(\"Number of Users\")\n",
    "py.title(\"Distribution of user weights\")\n",
    "py.gca().set_yscale('log')\n",
    "py.show()"
   ]
  },
  {
   "cell_type": "code",
   "execution_count": 6,
   "metadata": {},
   "outputs": [
    {
     "data": {
      "image/png": "[encoded data removed]",
      "text/plain": [
       "<Figure size 432x288 with 1 Axes>"
      ]
     },
     "metadata": {
      "needs_background": "light"
     },
     "output_type": "display_data"
    }
   ],
   "source": [
    "py.hist([user_weight[decision['added_by_id']] for decision in profiles.iter_decisions()])\n",
    "py.xlabel(\"Decision Weight\")\n",
    "py.ylabel(\"Number of Decisions\")\n",
    "py.title(\"Distribution of user weights on decisions\")\n",
    "py.gca().set_yscale('log')\n",
    "py.show()"
   ]
  },
  {
   "cell_type": "code",
   "execution_count": 7,
   "metadata": {},
   "outputs": [
    {
     "data": {
      "application/vnd.jupyter.widget-view+json": {
       "model_id": "200624d6add342ef836f894f48bd3334",
       "version_major": 2,
       "version_minor": 0
      },
      "text/plain": [
       "  0%|          | 0/1268 [00:00<?, ?it/s]"
      ]
     },
     "metadata": {},
     "output_type": "display_data"
    },
    {
     "name": "stderr",
     "output_type": "stream",
     "text": [
      "/Users/tuomasketola/Documents/followthemoney-compare/lib/python3.9/site-packages/followthemoney-2.5.1-py3.9.egg/followthemoney/compare.py:72: FTMPredictWarning: followthemoney.compare uses a simplified model. Use the package followthemoney-predict for a more accurate entity comparison model\n",
      "  warnings.warn(FTMPredictWarning())\n"
     ]
    }
   ],
   "source": [
    "pairs_weighted_sum = Counter()\n",
    "pairs_count = Counter()\n",
    "for profile in tqdm(profiles.values()):\n",
    "    for (e1, e2), judgement in profile.iter_pairs(judgements={Judgement.POSITIVE, Judgement.NEGATIVE}):\n",
    "        weights = utils.calculate_pair_weights(e1, e2, profile, user_weight)\n",
    "        pairs_weighted_sum[judgement] += weights.user_weight * weights.pair_weight\n",
    "        pairs_count[judgement] += 1\n",
    "pairs_avg = Counter({j: pairs_weighted_sum[j] / pairs_count[j] for j in pairs_count.keys()})"
   ]
  },
  {
   "cell_type": "code",
   "execution_count": 8,
   "metadata": {},
   "outputs": [
    {
     "name": "stdout",
     "output_type": "stream",
     "text": [
      "Pairs Weighted Sum:\n",
      "Total number of pairs: 982.8301088676342\n",
      "Pair judgements:\n",
      "[(<Judgement.POSITIVE: 'positive'>, 526.3287460289073),\n",
      " (<Judgement.NEGATIVE: 'negative'>, 456.5013628387269)]\n",
      "\n",
      "Pairs Weighted Average:\n",
      "Total number of pairs: 1.1805030509083383\n",
      "Pair judgements:\n",
      "[(<Judgement.POSITIVE: 'positive'>, 0.6112993565957111),\n",
      " (<Judgement.NEGATIVE: 'negative'>, 0.5692036943126271)]\n"
     ]
    }
   ],
   "source": [
    "print(\"Pairs Weighted Sum:\")\n",
    "print(\"Total number of pairs:\", sum(pairs_weighted_sum.values()))\n",
    "print(\"Pair judgements:\")\n",
    "pprint(pairs_weighted_sum.most_common())\n",
    "\n",
    "print()\n",
    "\n",
    "print(\"Pairs Weighted Average:\")\n",
    "print(\"Total number of pairs:\", sum(pairs_avg.values()))\n",
    "print(\"Pair judgements:\")\n",
    "pprint(pairs_avg.most_common())"
   ]
  },
  {
   "cell_type": "code",
   "execution_count": 9,
   "metadata": {
    "scrolled": true
   },
   "outputs": [
    {
     "data": {
      "application/vnd.jupyter.widget-view+json": {
       "model_id": "40290b7ebdcf45998aafba35fd7ce621",
       "version_major": 2,
       "version_minor": 0
      },
      "text/plain": [
       "  0%|          | 0/1268 [00:00<?, ?it/s]"
      ]
     },
     "metadata": {},
     "output_type": "display_data"
    },
    {
     "name": "stderr",
     "output_type": "stream",
     "text": [
      "/Users/tuomasketola/Documents/followthemoney-compare/followthemoney_compare/notebooks/../lib/compare2_tk.py:77: FTMPredictWarning: followthemoney.compare uses a simplified model. Use the package followthemoney-predict for a more accurate entity comparison model\n",
      "  warnings.warn(FTMPredictWarning())\n"
     ]
    }
   ],
   "source": [
    "pairs_weights = defaultdict(list)\n",
    "pairs_compare_score = defaultdict(list)\n",
    "pairs_compare2_score = defaultdict(list)\n",
    "for profile in tqdm(profiles.values()):\n",
    "    pairs = profile.iter_pairs(judgements={Judgement.POSITIVE, Judgement.NEGATIVE})\n",
    "    for (e1, e2), judgement in pairs:\n",
    "        pairs_compare_score[judgement].append(compare.compare(model, e1, e2))\n",
    "        pairs_compare2_score[judgement].append(compare2.compare(model, e1, e2))"
   ]
  },
  {
   "cell_type": "code",
   "execution_count": 10,
   "metadata": {},
   "outputs": [
    {
     "data": {
      "image/png": "[encoded data removed]",
      "text/plain": [
       "<Figure size 432x288 with 2 Axes>"
      ]
     },
     "metadata": {
      "needs_background": "light"
     },
     "output_type": "display_data"
    }
   ],
   "source": [
    "fig, axs = py.subplots(nrows=len(pairs_compare_score), sharey=True)\n",
    "for ax, (key, values) in zip(axs, pairs_compare_score.items()):\n",
    "    ax.hist(values, label=key, bins=10, density=True)\n",
    "    ax.set_ylabel(key.value)\n",
    "    ax.set_xlim(0, 1)\n",
    "py.suptitle('ftm.compare on xref party data')\n",
    "py.tight_layout()\n",
    "py.show()"
   ]
  },
  {
   "cell_type": "code",
   "execution_count": 11,
   "metadata": {},
   "outputs": [
    {
     "data": {
      "image/png": "[encoded data removed]",
      "text/plain": [
       "<Figure size 432x288 with 2 Axes>"
      ]
     },
     "metadata": {
      "needs_background": "light"
     },
     "output_type": "display_data"
    }
   ],
   "source": [
    "fig, axs = py.subplots(nrows=len(pairs_compare2_score), sharey=True)\n",
    "for ax, (key, values) in zip(axs, pairs_compare2_score.items()):\n",
    "    ax.hist(values, label=key, bins=10, density=True)\n",
    "    ax.set_ylabel(key.value)\n",
    "    ax.set_xlim(0, 1)\n",
    "py.suptitle('ftm.compare2 on xref party data')\n",
    "py.tight_layout()\n",
    "py.show()"
   ]
  },
  {
   "cell_type": "code",
   "execution_count": null,
   "metadata": {},
   "outputs": [],
   "source": [
    "for judgement, data in pairs_compare_score.items():\n",
    "    print(judgement.name)\n",
    "    for threshold in (0.5, 0.7, 0.95):\n",
    "        N = sum(0.2 < s < threshold for s in data)\n",
    "        pct = N / len(data) * 100\n",
    "        print(f'\\t{judgement.name} pairs with 0.2 < compare < {threshold}: {N}: {pct:0.2f}%')\n",
    "    N = sum(s < 0.5 for s in data)\n",
    "    pct = N / len(data) * 100\n",
    "    print(f'\\t{judgement.name} pairs with 0.0 < compare < 0.5: {N}: {pct:0.2f}%')"
   ]
  },
  {
   "cell_type": "code",
   "execution_count": null,
   "metadata": {},
   "outputs": [],
   "source": [
    "for judgement, data in pairs_compare2_score.items():\n",
    "    print(judgement.name)\n",
    "    for threshold in (0.5, 0.7, 0.95):\n",
    "        N = sum(0.2 < s < threshold for s in data)\n",
    "        pct = N / len(data) * 100\n",
    "        print(f'\\t{judgement.name} pairs with 0.2 < compare2 < {threshold}: {N}: {pct:0.2f}%')\n",
    "    N = sum(s < 0.5 for s in data)\n",
    "    pct = N / len(data) * 100\n",
    "    print(f'\\t{judgement.name} pairs with 0.0 < compare2 < 0.5: {N}: {pct:0.2f}%')"
   ]
  },
  {
   "cell_type": "code",
   "execution_count": null,
   "metadata": {},
   "outputs": [],
   "source": [
    "pairs_compare2_score"
   ]
  },
  {
   "cell_type": "code",
   "execution_count": null,
   "metadata": {},
   "outputs": [],
   "source": []
  },
  {
   "cell_type": "code",
   "execution_count": null,
   "metadata": {},
   "outputs": [],
   "source": []
  },
  {
   "cell_type": "code",
   "execution_count": null,
   "metadata": {},
   "outputs": [],
   "source": []
  },
  {
   "cell_type": "code",
   "execution_count": null,
   "metadata": {},
   "outputs": [],
   "source": []
  },
  {
   "cell_type": "code",
   "execution_count": null,
   "metadata": {},
   "outputs": [],
   "source": []
  }
 ],
 "metadata": {
  "kernelspec": {
   "display_name": "followthemoney-compare",
   "language": "python",
   "name": "followthemoney-compare"
  },
  "language_info": {
   "codemirror_mode": {
    "name": "ipython",
    "version": 3
   },
   "file_extension": ".py",
   "mimetype": "text/x-python",
   "name": "python",
   "nbconvert_exporter": "python",
   "pygments_lexer": "ipython3",
   "version": "3.9.5"
  }
 },
 "nbformat": 4,
 "nbformat_minor": 5
}
